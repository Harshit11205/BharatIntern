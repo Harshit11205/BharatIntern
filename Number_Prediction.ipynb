{
 "cells": [
  {
   "cell_type": "markdown",
   "id": "b9a7b03a-b55b-4457-8d49-4d819bcc3f4b",
   "metadata": {},
   "source": [
    "# NUMBER PREDICTION USING ANN"
   ]
  },
  {
   "cell_type": "code",
   "execution_count": 6,
   "id": "597b9f31-9b81-4d5a-b1df-07faca693df1",
   "metadata": {},
   "outputs": [],
   "source": [
    "import numpy as np\n",
    "import matplotlib.pyplot as plt\n",
    "import keras"
   ]
  },
  {
   "cell_type": "code",
   "execution_count": 7,
   "id": "34a9589d-2136-47f3-b23e-b488c6fd2918",
   "metadata": {},
   "outputs": [],
   "source": [
    "from keras.datasets import mnist"
   ]
  },
  {
   "cell_type": "markdown",
   "id": "1ecce58d-8fd3-4647-bd9a-1d95f36ab595",
   "metadata": {},
   "source": [
    "## GETTING DATA AND PREPROCESSING IT"
   ]
  },
  {
   "cell_type": "code",
   "execution_count": 8,
   "id": "69d03294-9c20-4565-a84e-498a44f981b7",
   "metadata": {},
   "outputs": [],
   "source": [
    "(X_train, y_train), (X_test, y_test) = mnist.load_data()"
   ]
  },
  {
   "cell_type": "code",
   "execution_count": 9,
   "id": "0f5d25a2-b760-40b3-b7f4-a486bb2c30b7",
   "metadata": {},
   "outputs": [
    {
     "data": {
      "text/plain": [
       "((60000, 28, 28), (60000,), (10000, 28, 28), (10000,))"
      ]
     },
     "execution_count": 9,
     "metadata": {},
     "output_type": "execute_result"
    }
   ],
   "source": [
    "X_train.shape, y_train.shape, X_test.shape, y_test.shape"
   ]
  },
  {
   "cell_type": "code",
   "execution_count": 10,
   "id": "d56ae609-d431-4529-b98c-2f47d46db4c1",
   "metadata": {},
   "outputs": [
    {
     "data": {
      "text/plain": [
       "<matplotlib.image.AxesImage at 0x18aea8e7010>"
      ]
     },
     "execution_count": 10,
     "metadata": {},
     "output_type": "execute_result"
    },
    {
     "data": {
      "image/png": "[encoded data removed]",
      "text/plain": [
       "<Figure size 640x480 with 1 Axes>"
      ]
     },
     "metadata": {},
     "output_type": "display_data"
    }
   ],
   "source": [
    "plt.imshow(X_train[0])"
   ]
  },
  {
   "cell_type": "code",
   "execution_count": 11,
   "id": "99d6b655-50eb-4fe8-8a22-e8d355de7ebb",
   "metadata": {},
   "outputs": [],
   "source": [
    "X_train = X_train/255\n",
    "X_test = X_test/255"
   ]
  },
  {
   "cell_type": "code",
   "execution_count": 12,
   "id": "f297c457-d9c6-4653-aebd-b3f62aea5fc2",
   "metadata": {},
   "outputs": [
    {
     "data": {
      "text/plain": [
       "(60000, 28, 28)"
      ]
     },
     "execution_count": 12,
     "metadata": {},
     "output_type": "execute_result"
    }
   ],
   "source": [
    "X_train.shape"
   ]
  },
  {
   "cell_type": "code",
   "execution_count": 13,
   "id": "b28744c1-ec8f-44c9-8edf-adadc3bc8450",
   "metadata": {},
   "outputs": [
    {
     "data": {
      "text/plain": [
       "(10000, 28, 28)"
      ]
     },
     "execution_count": 13,
     "metadata": {},
     "output_type": "execute_result"
    }
   ],
   "source": [
    "X_test.shape"
   ]
  },
  {
   "cell_type": "markdown",
   "id": "7cdedcbe-13cb-4582-a4d0-41f2ea58abdd",
   "metadata": {},
   "source": [
    "## MODEL BUILDING"
   ]
  },
  {
   "cell_type": "code",
   "execution_count": 14,
   "id": "dcfc4cd9-35c1-4288-8e13-1b9420b0e185",
   "metadata": {},
   "outputs": [],
   "source": [
    "from keras.models import Sequential\n",
    "from keras.layers import Dense, Flatten"
   ]
  },
  {
   "cell_type": "code",
   "execution_count": 15,
   "id": "26b83241-6a79-4840-863c-e4c0091345b3",
   "metadata": {},
   "outputs": [],
   "source": [
    "model = Sequential()"
   ]
  },
  {
   "cell_type": "code",
   "execution_count": 24,
   "id": "12f9d0d0-d14a-4ddb-a05a-5173f7f5174e",
   "metadata": {},
   "outputs": [],
   "source": [
    "model.add(Flatten(input_shape=(28,28)))\n",
    "model.add(Dense(128,activation='relu'))\n",
    "model.add(Dense(32,activation='relu'))\n",
    "model.add(Dense(10, activation=\"softmax\"))"
   ]
  },
  {
   "cell_type": "code",
   "execution_count": 25,
   "id": "94e5aa7d-c317-4a97-b7c3-4976d57e1ead",
   "metadata": {},
   "outputs": [
    {
     "name": "stdout",
     "output_type": "stream",
     "text": [
      "Model: \"sequential\"\n",
      "_________________________________________________________________\n",
      " Layer (type)                Output Shape              Param #   \n",
      "=================================================================\n",
      " flatten (Flatten)           (None, 784)               0         \n",
      "                                                                 \n",
      " dense (Dense)               (None, 128)               100480    \n",
      "                                                                 \n",
      " dense_1 (Dense)             (None, 10)                1290      \n",
      "                                                                 \n",
      " flatten_1 (Flatten)         (None, 10)                0         \n",
      "                                                                 \n",
      " dense_2 (Dense)             (None, 128)               1408      \n",
      "                                                                 \n",
      " dense_3 (Dense)             (None, 32)                4128      \n",
      "                                                                 \n",
      " dense_4 (Dense)             (None, 10)                330       \n",
      "                                                                 \n",
      "=================================================================\n",
      "Total params: 107636 (420.45 KB)\n",
      "Trainable params: 107636 (420.45 KB)\n",
      "Non-trainable params: 0 (0.00 Byte)\n",
      "_________________________________________________________________\n"
     ]
    }
   ],
   "source": [
    "model.summary()"
   ]
  },
  {
   "cell_type": "code",
   "execution_count": 33,
   "id": "66271099-85d5-477b-95e6-dbf017d76fc4",
   "metadata": {},
   "outputs": [],
   "source": [
    "model.compile(optimizer = 'adam', loss = 'sparse_categorical_crossentropy',metrics=['accuracy'])"
   ]
  },
  {
   "cell_type": "markdown",
   "id": "82508b77-3c0a-4a39-9f19-db601bffbe64",
   "metadata": {},
   "source": [
    "## MODEL TRAINING"
   ]
  },
  {
   "cell_type": "code",
   "execution_count": 34,
   "id": "48a47c91-1d1c-49a6-a32c-38981143d825",
   "metadata": {
    "scrolled": true
   },
   "outputs": [
    {
     "name": "stdout",
     "output_type": "stream",
     "text": [
      "Epoch 1/25\n",
      "1500/1500 [==============================] - 13s 7ms/step - loss: 0.0133 - accuracy: 0.9970 - val_loss: 0.1435 - val_accuracy: 0.9763\n",
      "Epoch 2/25\n",
      "1500/1500 [==============================] - 10s 7ms/step - loss: 0.0094 - accuracy: 0.9979 - val_loss: 0.1445 - val_accuracy: 0.9773\n",
      "Epoch 3/25\n",
      "1500/1500 [==============================] - 10s 6ms/step - loss: 0.0120 - accuracy: 0.9969 - val_loss: 0.1369 - val_accuracy: 0.9773\n",
      "Epoch 4/25\n",
      "1500/1500 [==============================] - 9s 6ms/step - loss: 0.0071 - accuracy: 0.9983 - val_loss: 0.1520 - val_accuracy: 0.9778\n",
      "Epoch 5/25\n",
      "1500/1500 [==============================] - 9s 6ms/step - loss: 0.0131 - accuracy: 0.9969 - val_loss: 0.1478 - val_accuracy: 0.9772\n",
      "Epoch 6/25\n",
      "1500/1500 [==============================] - 10s 7ms/step - loss: 0.0086 - accuracy: 0.9979 - val_loss: 0.1526 - val_accuracy: 0.9774\n",
      "Epoch 7/25\n",
      "1500/1500 [==============================] - 9s 6ms/step - loss: 0.0101 - accuracy: 0.9976 - val_loss: 0.1484 - val_accuracy: 0.9764\n",
      "Epoch 8/25\n",
      "1500/1500 [==============================] - 9s 6ms/step - loss: 0.0089 - accuracy: 0.9978 - val_loss: 0.1553 - val_accuracy: 0.9779\n",
      "Epoch 9/25\n",
      "1500/1500 [==============================] - 9s 6ms/step - loss: 0.0125 - accuracy: 0.9972 - val_loss: 0.1538 - val_accuracy: 0.9753\n",
      "Epoch 10/25\n",
      "1500/1500 [==============================] - 9s 6ms/step - loss: 0.0077 - accuracy: 0.9983 - val_loss: 0.1552 - val_accuracy: 0.9770\n",
      "Epoch 11/25\n",
      "1500/1500 [==============================] - 9s 6ms/step - loss: 0.0090 - accuracy: 0.9982 - val_loss: 0.1355 - val_accuracy: 0.9769\n",
      "Epoch 12/25\n",
      "1500/1500 [==============================] - 9s 6ms/step - loss: 0.0086 - accuracy: 0.9981 - val_loss: 0.1600 - val_accuracy: 0.9739\n",
      "Epoch 13/25\n",
      "1500/1500 [==============================] - 9s 6ms/step - loss: 0.0073 - accuracy: 0.9984 - val_loss: 0.1443 - val_accuracy: 0.9777\n",
      "Epoch 14/25\n",
      "1500/1500 [==============================] - 9s 6ms/step - loss: 0.0105 - accuracy: 0.9974 - val_loss: 0.1618 - val_accuracy: 0.9745\n",
      "Epoch 15/25\n",
      "1500/1500 [==============================] - 9s 6ms/step - loss: 0.0054 - accuracy: 0.9984 - val_loss: 0.1809 - val_accuracy: 0.9781\n",
      "Epoch 16/25\n",
      "1500/1500 [==============================] - 9s 6ms/step - loss: 0.0112 - accuracy: 0.9971 - val_loss: 0.1725 - val_accuracy: 0.9715\n",
      "Epoch 17/25\n",
      "1500/1500 [==============================] - 9s 6ms/step - loss: 0.0073 - accuracy: 0.9985 - val_loss: 0.1698 - val_accuracy: 0.9757\n",
      "Epoch 18/25\n",
      "1500/1500 [==============================] - 9s 6ms/step - loss: 0.0114 - accuracy: 0.9974 - val_loss: 0.1480 - val_accuracy: 0.9770\n",
      "Epoch 19/25\n",
      "1500/1500 [==============================] - 9s 6ms/step - loss: 0.0079 - accuracy: 0.9980 - val_loss: 0.1550 - val_accuracy: 0.9758\n",
      "Epoch 20/25\n",
      "1500/1500 [==============================] - 9s 6ms/step - loss: 0.0065 - accuracy: 0.9984 - val_loss: 0.1603 - val_accuracy: 0.9760\n",
      "Epoch 21/25\n",
      "1500/1500 [==============================] - 9s 6ms/step - loss: 0.0088 - accuracy: 0.9980 - val_loss: 0.1582 - val_accuracy: 0.9762\n",
      "Epoch 22/25\n",
      "1500/1500 [==============================] - 9s 6ms/step - loss: 0.0076 - accuracy: 0.9981 - val_loss: 0.1594 - val_accuracy: 0.9760\n",
      "Epoch 23/25\n",
      "1500/1500 [==============================] - 9s 6ms/step - loss: 0.0075 - accuracy: 0.9983 - val_loss: 0.1516 - val_accuracy: 0.9744\n",
      "Epoch 24/25\n",
      "1500/1500 [==============================] - 9s 6ms/step - loss: 0.0054 - accuracy: 0.9987 - val_loss: 0.1796 - val_accuracy: 0.9758\n",
      "Epoch 25/25\n",
      "1500/1500 [==============================] - 9s 6ms/step - loss: 0.0085 - accuracy: 0.9981 - val_loss: 0.1811 - val_accuracy: 0.9758\n"
     ]
    }
   ],
   "source": [
    "history = model.fit(X_train,y_train, epochs=25, validation_split=0.2)"
   ]
  },
  {
   "cell_type": "code",
   "execution_count": 35,
   "id": "ccea9716-9182-4f34-b60c-bf30792495d7",
   "metadata": {},
   "outputs": [
    {
     "name": "stdout",
     "output_type": "stream",
     "text": [
      "313/313 [==============================] - 1s 3ms/step\n"
     ]
    }
   ],
   "source": [
    "y_prob = model.predict(X_test)"
   ]
  },
  {
   "cell_type": "code",
   "execution_count": 36,
   "id": "c4dbb309-21cc-4bb4-a0d7-0d51f1d07175",
   "metadata": {},
   "outputs": [],
   "source": [
    "y_pred = y_prob.argmax(axis = 1)"
   ]
  },
  {
   "cell_type": "code",
   "execution_count": 37,
   "id": "32389a00-6595-4a4e-8d14-ddab7639780f",
   "metadata": {},
   "outputs": [
    {
     "data": {
      "text/plain": [
       "0.9768"
      ]
     },
     "execution_count": 37,
     "metadata": {},
     "output_type": "execute_result"
    }
   ],
   "source": [
    "from sklearn.metrics import accuracy_score\n",
    "accuracy_score(y_test,y_pred)"
   ]
  },
  {
   "cell_type": "code",
   "execution_count": 32,
   "id": "ba096f2a-d169-4f0f-99cd-8bc0ea76492f",
   "metadata": {},
   "outputs": [
    {
     "data": {
      "text/plain": [
       "[<matplotlib.lines.Line2D at 0x18a9a088bd0>]"
      ]
     },
     "execution_count": 32,
     "metadata": {},
     "output_type": "execute_result"
    },
    {
     "data": {
      "image/png": "[encoded data removed]",
      "text/plain": [
       "<Figure size 640x480 with 1 Axes>"
      ]
     },
     "metadata": {},
     "output_type": "display_data"
    }
   ],
   "source": [
    "plt.plot(history.history['loss'])\n",
    "plt.plot(history.history['val_loss'])"
   ]
  },
  {
   "cell_type": "code",
   "execution_count": 38,
   "id": "63af2287-17a6-4353-a6a0-af4649b9fa41",
   "metadata": {},
   "outputs": [
    {
     "data": {
      "text/plain": [
       "[<matplotlib.lines.Line2D at 0x18aa250fbd0>]"
      ]
     },
     "execution_count": 38,
     "metadata": {},
     "output_type": "execute_result"
    },
    {
     "data": {
      "image/png": "[encoded data removed]",
      "text/plain": [
       "<Figure size 640x480 with 1 Axes>"
      ]
     },
     "metadata": {},
     "output_type": "display_data"
    }
   ],
   "source": [
    "plt.plot(history.history['accuracy'])\n",
    "plt.plot(history.history['val_accuracy'])"
   ]
  },
  {
   "cell_type": "markdown",
   "id": "7c1366bb-7b50-4b70-9fc0-95f8f2056105",
   "metadata": {},
   "source": [
    "## NUMBER RECOGNITION"
   ]
  },
  {
   "cell_type": "code",
   "execution_count": 42,
   "id": "1329ef64-e59d-40b2-8f6c-5d1d5da19c43",
   "metadata": {},
   "outputs": [
    {
     "data": {
      "text/plain": [
       "<matplotlib.image.AxesImage at 0x18aa26fdd90>"
      ]
     },
     "execution_count": 42,
     "metadata": {},
     "output_type": "execute_result"
    },
    {
     "data": {
      "image/png": "[encoded data removed]",
      "text/plain": [
       "<Figure size 640x480 with 1 Axes>"
      ]
     },
     "metadata": {},
     "output_type": "display_data"
    }
   ],
   "source": [
    "plt.imshow(X_test[1])"
   ]
  },
  {
   "cell_type": "code",
   "execution_count": 43,
   "id": "8dcb7190-acc1-493c-9612-d8f48eace0b5",
   "metadata": {},
   "outputs": [
    {
     "name": "stdout",
     "output_type": "stream",
     "text": [
      "1/1 [==============================] - 0s 81ms/step\n"
     ]
    },
    {
     "data": {
      "text/plain": [
       "array([2], dtype=int64)"
      ]
     },
     "execution_count": 43,
     "metadata": {},
     "output_type": "execute_result"
    }
   ],
   "source": [
    "model.predict(X_test[1].reshape(1,28,28)).argmax(axis=1)"
   ]
  },
  {
   "cell_type": "markdown",
   "id": "6046a69f-d813-479d-8676-64a9e43f1893",
   "metadata": {},
   "source": [
    "## CONCLUSIONS"
   ]
  },
  {
   "cell_type": "markdown",
   "id": "6bd9b807-46cb-4e2e-9b4d-522c97994efd",
   "metadata": {},
   "source": [
    "#### From this model we can easily identy a number in an image using Artificial Neural Network."
   ]
  },
  {
   "cell_type": "markdown",
   "id": "2bd34698-7b60-4a0e-9e08-953d4c9a88f1",
   "metadata": {},
   "source": [
    "#### The accuracy Score for this model is 97.68%"
   ]
  }
 ],
 "metadata": {
  "kernelspec": {
   "display_name": "Python 3 (ipykernel)",
   "language": "python",
   "name": "python3"
  },
  "language_info": {
   "codemirror_mode": {
    "name": "ipython",
    "version": 3
   },
   "file_extension": ".py",
   "mimetype": "text/x-python",
   "name": "python",
   "nbconvert_exporter": "python",
   "pygments_lexer": "ipython3",
   "version": "3.11.4"
  }
 },
 "nbformat": 4,
 "nbformat_minor": 5
}
